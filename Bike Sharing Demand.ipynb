{
 "cells": [
  {
   "cell_type": "markdown",
   "id": "af05c153",
   "metadata": {
    "id": "af05c153"
   },
   "source": [
    "# Bike Sharing Demand"
   ]
  },
  {
   "cell_type": "markdown",
   "id": "21bb932d",
   "metadata": {
    "id": "21bb932d"
   },
   "source": [
    "- 도시 자전거 공유 시스템 사용 예측\n",
    "- [캐글](https://www.kaggle.com)의 [Bike Sharing Demand](https://www.kaggle.com/c/bike-sharing-demand)에서 `train.csv`와 `test.csv`를 다운로드\n",
    "- 두 파일을 각각 datasets 디렉토리에 bike_train.csv bike_test.csv로 저장 "
   ]
  },
  {
   "cell_type": "markdown",
   "id": "13585302",
   "metadata": {
    "id": "13585302"
   },
   "source": [
    "## 1. 문제 정의\n",
    "- 자전거 대여량을 예측하는 문제\n",
    "- Evaluation : Submissions are evaluated one the Root Mean Squared Logarithmic Error (RMSLE). "
   ]
  },
  {
   "cell_type": "code",
   "execution_count": null,
   "id": "24ec38cc",
   "metadata": {
    "id": "24ec38cc"
   },
   "outputs": [],
   "source": [
    "import numpy as np\n",
    "import pandas as pd\n",
    "import seaborn as sns\n",
    "import matplotlib.pyplot as plt"
   ]
  },
  {
   "cell_type": "markdown",
   "id": "d3d306c5",
   "metadata": {
    "id": "d3d306c5"
   },
   "source": [
    "## 2. 데이터 가져오기"
   ]
  },
  {
   "cell_type": "code",
   "execution_count": null,
   "id": "05e4a385",
   "metadata": {
    "id": "05e4a385"
   },
   "outputs": [],
   "source": []
  },
  {
   "cell_type": "code",
   "execution_count": null,
   "id": "759d0443",
   "metadata": {
    "id": "759d0443"
   },
   "outputs": [],
   "source": []
  },
  {
   "cell_type": "markdown",
   "id": "04bbcf5e",
   "metadata": {
    "id": "04bbcf5e"
   },
   "source": [
    "## 3. 데이터 훑어보기"
   ]
  },
  {
   "cell_type": "code",
   "execution_count": null,
   "id": "15215b43",
   "metadata": {
    "id": "15215b43"
   },
   "outputs": [],
   "source": []
  },
  {
   "cell_type": "code",
   "execution_count": null,
   "id": "b82bb9d4",
   "metadata": {
    "id": "b82bb9d4"
   },
   "outputs": [],
   "source": []
  },
  {
   "cell_type": "markdown",
   "id": "e2a57c99",
   "metadata": {
    "id": "e2a57c99"
   },
   "source": [
    "datetime: hourly date + timestamp  \n",
    "season: 1 = 봄, 2 = 여름, 3 = 가을, 4 = 겨울  \n",
    "holiday: 1 = 토, 일요일의 주말을 제외한 국경일 등의 휴일, 0 = 휴일이 아닌 날  \n",
    "workingday: 1 = 토, 일요일의 주말 및 휴일이 아닌 주중, 0 = 주말 및 휴일  \n",
    "weather:  \n",
    "• 1 = 맑음, 약간 구름 낀 흐림  \n",
    "• 2 = 안개, 안개 + 흐림  \n",
    "• 3 = 가벼운 눈, 가벼운 비 + 천둥  \n",
    "• 4 = 심한 눈/비, 천둥/번개  \n",
    "temp: 온도(섭씨)   \n",
    "atemp: 체감온도(섭씨)  \n",
    "humidity: 상대습도  \n",
    "windspeed: 풍속  \n",
    "casual: 사전에 등록되지 않는 사용자가 대여한 횟수  \n",
    "registered: 사전에 등록된 사용자가 대여한 횟수  \n",
    "count: 대여 횟수  "
   ]
  },
  {
   "cell_type": "code",
   "execution_count": null,
   "id": "70f50874",
   "metadata": {
    "id": "70f50874"
   },
   "outputs": [],
   "source": []
  },
  {
   "cell_type": "code",
   "execution_count": null,
   "id": "c616aa2b",
   "metadata": {
    "id": "c616aa2b"
   },
   "outputs": [],
   "source": []
  },
  {
   "cell_type": "markdown",
   "id": "610e7ab7",
   "metadata": {
    "id": "610e7ab7"
   },
   "source": [
    "## 4. 데이터 탐색"
   ]
  },
  {
   "cell_type": "code",
   "execution_count": null,
   "id": "BkEOpgnf1gzA",
   "metadata": {
    "id": "BkEOpgnf1gzA"
   },
   "outputs": [],
   "source": []
  },
  {
   "cell_type": "code",
   "execution_count": null,
   "id": "aed73fff",
   "metadata": {
    "id": "aed73fff"
   },
   "outputs": [],
   "source": []
  },
  {
   "cell_type": "markdown",
   "id": "c209df2d",
   "metadata": {
    "id": "c209df2d"
   },
   "source": [
    "## 5. 데이터 전처리"
   ]
  },
  {
   "cell_type": "code",
   "execution_count": null,
   "id": "7v1dGIxM1lX6",
   "metadata": {
    "id": "7v1dGIxM1lX6"
   },
   "outputs": [],
   "source": []
  },
  {
   "cell_type": "code",
   "execution_count": null,
   "id": "71db2cb4",
   "metadata": {
    "id": "71db2cb4"
   },
   "outputs": [],
   "source": []
  },
  {
   "cell_type": "markdown",
   "id": "5ce472a1",
   "metadata": {
    "id": "5ce472a1"
   },
   "source": [
    "## 6. 평가지표 계산 함수 작성"
   ]
  },
  {
   "cell_type": "code",
   "execution_count": null,
   "id": "-mmKPzRf2szV",
   "metadata": {
    "id": "-mmKPzRf2szV"
   },
   "outputs": [],
   "source": []
  },
  {
   "cell_type": "code",
   "execution_count": null,
   "id": "7d9ff398",
   "metadata": {
    "id": "7d9ff398"
   },
   "outputs": [],
   "source": []
  },
  {
   "cell_type": "markdown",
   "id": "b2592bf6",
   "metadata": {
    "id": "b2592bf6"
   },
   "source": [
    "## 7. 모델 선택과 훈련"
   ]
  },
  {
   "cell_type": "code",
   "execution_count": null,
   "id": "b7a0e1bc",
   "metadata": {
    "id": "b7a0e1bc"
   },
   "outputs": [],
   "source": []
  },
  {
   "cell_type": "code",
   "execution_count": null,
   "id": "baeb6cd8",
   "metadata": {
    "id": "baeb6cd8"
   },
   "outputs": [],
   "source": []
  },
  {
   "cell_type": "markdown",
   "id": "38de589a",
   "metadata": {
    "id": "38de589a"
   },
   "source": [
    "## 8. 모델 세부 튜닝"
   ]
  },
  {
   "cell_type": "code",
   "execution_count": null,
   "id": "82d5be9d",
   "metadata": {
    "id": "82d5be9d"
   },
   "outputs": [],
   "source": []
  },
  {
   "cell_type": "code",
   "execution_count": null,
   "id": "8b61a3b6",
   "metadata": {
    "id": "8b61a3b6"
   },
   "outputs": [],
   "source": []
  },
  {
   "cell_type": "markdown",
   "id": "a33e23b2",
   "metadata": {
    "id": "a33e23b2"
   },
   "source": [
    "## 9. 모델 예측과 성능 평가"
   ]
  },
  {
   "cell_type": "code",
   "execution_count": null,
   "id": "066969ae",
   "metadata": {
    "id": "066969ae"
   },
   "outputs": [],
   "source": []
  },
  {
   "cell_type": "code",
   "execution_count": null,
   "id": "07ca93ea",
   "metadata": {
    "id": "07ca93ea"
   },
   "outputs": [],
   "source": []
  },
  {
   "cell_type": "markdown",
   "id": "5013d454",
   "metadata": {
    "id": "5013d454"
   },
   "source": [
    "# 더 해볼만한것!"
   ]
  },
  {
   "cell_type": "code",
   "execution_count": null,
   "id": "8b2ba788",
   "metadata": {
    "id": "8b2ba788"
   },
   "outputs": [],
   "source": []
  },
  {
   "cell_type": "code",
   "execution_count": null,
   "id": "e2a998fb",
   "metadata": {
    "id": "e2a998fb"
   },
   "outputs": [],
   "source": []
  }
 ],
 "metadata": {
  "colab": {
   "provenance": []
  },
  "kernelspec": {
   "display_name": "Python 3 (ipykernel)",
   "language": "python",
   "name": "python3"
  },
  "language_info": {
   "codemirror_mode": {
    "name": "ipython",
    "version": 3
   },
   "file_extension": ".py",
   "mimetype": "text/x-python",
   "name": "python",
   "nbconvert_exporter": "python",
   "pygments_lexer": "ipython3",
   "version": "3.9.12"
  }
 },
 "nbformat": 4,
 "nbformat_minor": 5
}
